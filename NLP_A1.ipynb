{
  "nbformat": 4,
  "nbformat_minor": 0,
  "metadata": {
    "colab": {
      "name": "NLP A1.ipynb",
      "provenance": [],
      "collapsed_sections": [],
      "toc_visible": true,
      "include_colab_link": true
    },
    "kernelspec": {
      "display_name": "Python 3",
      "language": "python",
      "name": "python3"
    },
    "language_info": {
      "codemirror_mode": {
        "name": "ipython",
        "version": 3
      },
      "file_extension": ".py",
      "mimetype": "text/x-python",
      "name": "python",
      "nbconvert_exporter": "python",
      "pygments_lexer": "ipython3",
      "version": "3.7.6"
    }
  },
  "cells": [
    {
      "cell_type": "markdown",
      "metadata": {
        "id": "view-in-github",
        "colab_type": "text"
      },
      "source": [
        "<a href=\"https://colab.research.google.com/github/sarahejaz/sentence-segmentation-in-urdu/blob/main/NLP_A1.ipynb\" target=\"_parent\"><img src=\"https://colab.research.google.com/assets/colab-badge.svg\" alt=\"Open In Colab\"/></a>"
      ]
    },
    {
      "cell_type": "code",
      "metadata": {
        "id": "4PtQWiMufucH"
      },
      "source": [
        "#i170082    i170082@nu.edu.pk"
      ],
      "execution_count": null,
      "outputs": []
    },
    {
      "cell_type": "markdown",
      "metadata": {
        "id": "11_QtarKSjPf"
      },
      "source": [
        "### Natural Language Processing: Assignment 1"
      ]
    },
    {
      "cell_type": "markdown",
      "metadata": {
        "id": "0S_p54xNSTq_"
      },
      "source": [
        "##### This is demo program which give you idea about how to start  your assignment."
      ]
    },
    {
      "cell_type": "code",
      "metadata": {
        "id": "vIhS278lWQOv",
        "colab": {
          "base_uri": "https://localhost:8080/"
        },
        "outputId": "539facfc-d73f-47c8-f44d-55f3f9f63b84"
      },
      "source": [
        "## for installing UrduHack\n",
        "!pip install urduhack[tf]"
      ],
      "execution_count": null,
      "outputs": [
        {
          "output_type": "stream",
          "text": [
            "Requirement already satisfied: urduhack[tf] in /usr/local/lib/python3.7/dist-packages (1.1.1)\n",
            "Requirement already satisfied: tensorflow-datasets~=3.1 in /usr/local/lib/python3.7/dist-packages (from urduhack[tf]) (3.2.1)\n",
            "Requirement already satisfied: tf2crf in /usr/local/lib/python3.7/dist-packages (from urduhack[tf]) (0.1.31)\n",
            "Requirement already satisfied: regex in /usr/local/lib/python3.7/dist-packages (from urduhack[tf]) (2019.12.20)\n",
            "Requirement already satisfied: Click~=7.1 in /usr/local/lib/python3.7/dist-packages (from urduhack[tf]) (7.1.2)\n",
            "Requirement already satisfied: tensorflow~=2.2; extra == \"tf\" in /usr/local/lib/python3.7/dist-packages (from urduhack[tf]) (2.4.1)\n",
            "Requirement already satisfied: promise in /usr/local/lib/python3.7/dist-packages (from tensorflow-datasets~=3.1->urduhack[tf]) (2.3)\n",
            "Requirement already satisfied: tensorflow-metadata in /usr/local/lib/python3.7/dist-packages (from tensorflow-datasets~=3.1->urduhack[tf]) (0.28.0)\n",
            "Requirement already satisfied: wrapt in /usr/local/lib/python3.7/dist-packages (from tensorflow-datasets~=3.1->urduhack[tf]) (1.12.1)\n",
            "Requirement already satisfied: future in /usr/local/lib/python3.7/dist-packages (from tensorflow-datasets~=3.1->urduhack[tf]) (0.16.0)\n",
            "Requirement already satisfied: six in /usr/local/lib/python3.7/dist-packages (from tensorflow-datasets~=3.1->urduhack[tf]) (1.15.0)\n",
            "Requirement already satisfied: termcolor in /usr/local/lib/python3.7/dist-packages (from tensorflow-datasets~=3.1->urduhack[tf]) (1.1.0)\n",
            "Requirement already satisfied: tqdm in /usr/local/lib/python3.7/dist-packages (from tensorflow-datasets~=3.1->urduhack[tf]) (4.41.1)\n",
            "Requirement already satisfied: protobuf>=3.6.1 in /usr/local/lib/python3.7/dist-packages (from tensorflow-datasets~=3.1->urduhack[tf]) (3.12.4)\n",
            "Requirement already satisfied: attrs>=18.1.0 in /usr/local/lib/python3.7/dist-packages (from tensorflow-datasets~=3.1->urduhack[tf]) (20.3.0)\n",
            "Requirement already satisfied: requests>=2.19.0 in /usr/local/lib/python3.7/dist-packages (from tensorflow-datasets~=3.1->urduhack[tf]) (2.23.0)\n",
            "Requirement already satisfied: numpy in /usr/local/lib/python3.7/dist-packages (from tensorflow-datasets~=3.1->urduhack[tf]) (1.19.5)\n",
            "Requirement already satisfied: dill in /usr/local/lib/python3.7/dist-packages (from tensorflow-datasets~=3.1->urduhack[tf]) (0.3.3)\n",
            "Requirement already satisfied: absl-py in /usr/local/lib/python3.7/dist-packages (from tensorflow-datasets~=3.1->urduhack[tf]) (0.10.0)\n",
            "Requirement already satisfied: tensorflow-addons>=0.8.2 in /usr/local/lib/python3.7/dist-packages (from tf2crf->urduhack[tf]) (0.12.1)\n",
            "Requirement already satisfied: tensorflow-estimator<2.5.0,>=2.4.0 in /usr/local/lib/python3.7/dist-packages (from tensorflow~=2.2; extra == \"tf\"->urduhack[tf]) (2.4.0)\n",
            "Requirement already satisfied: h5py~=2.10.0 in /usr/local/lib/python3.7/dist-packages (from tensorflow~=2.2; extra == \"tf\"->urduhack[tf]) (2.10.0)\n",
            "Requirement already satisfied: opt-einsum~=3.3.0 in /usr/local/lib/python3.7/dist-packages (from tensorflow~=2.2; extra == \"tf\"->urduhack[tf]) (3.3.0)\n",
            "Requirement already satisfied: keras-preprocessing~=1.1.2 in /usr/local/lib/python3.7/dist-packages (from tensorflow~=2.2; extra == \"tf\"->urduhack[tf]) (1.1.2)\n",
            "Requirement already satisfied: flatbuffers~=1.12.0 in /usr/local/lib/python3.7/dist-packages (from tensorflow~=2.2; extra == \"tf\"->urduhack[tf]) (1.12)\n",
            "Requirement already satisfied: tensorboard~=2.4 in /usr/local/lib/python3.7/dist-packages (from tensorflow~=2.2; extra == \"tf\"->urduhack[tf]) (2.4.1)\n",
            "Requirement already satisfied: gast==0.3.3 in /usr/local/lib/python3.7/dist-packages (from tensorflow~=2.2; extra == \"tf\"->urduhack[tf]) (0.3.3)\n",
            "Requirement already satisfied: grpcio~=1.32.0 in /usr/local/lib/python3.7/dist-packages (from tensorflow~=2.2; extra == \"tf\"->urduhack[tf]) (1.32.0)\n",
            "Requirement already satisfied: typing-extensions~=3.7.4 in /usr/local/lib/python3.7/dist-packages (from tensorflow~=2.2; extra == \"tf\"->urduhack[tf]) (3.7.4.3)\n",
            "Requirement already satisfied: wheel~=0.35 in /usr/local/lib/python3.7/dist-packages (from tensorflow~=2.2; extra == \"tf\"->urduhack[tf]) (0.36.2)\n",
            "Requirement already satisfied: astunparse~=1.6.3 in /usr/local/lib/python3.7/dist-packages (from tensorflow~=2.2; extra == \"tf\"->urduhack[tf]) (1.6.3)\n",
            "Requirement already satisfied: google-pasta~=0.2 in /usr/local/lib/python3.7/dist-packages (from tensorflow~=2.2; extra == \"tf\"->urduhack[tf]) (0.2.0)\n",
            "Requirement already satisfied: googleapis-common-protos<2,>=1.52.0 in /usr/local/lib/python3.7/dist-packages (from tensorflow-metadata->tensorflow-datasets~=3.1->urduhack[tf]) (1.53.0)\n",
            "Requirement already satisfied: setuptools in /usr/local/lib/python3.7/dist-packages (from protobuf>=3.6.1->tensorflow-datasets~=3.1->urduhack[tf]) (54.1.2)\n",
            "Requirement already satisfied: idna<3,>=2.5 in /usr/local/lib/python3.7/dist-packages (from requests>=2.19.0->tensorflow-datasets~=3.1->urduhack[tf]) (2.10)\n",
            "Requirement already satisfied: chardet<4,>=3.0.2 in /usr/local/lib/python3.7/dist-packages (from requests>=2.19.0->tensorflow-datasets~=3.1->urduhack[tf]) (3.0.4)\n",
            "Requirement already satisfied: urllib3!=1.25.0,!=1.25.1,<1.26,>=1.21.1 in /usr/local/lib/python3.7/dist-packages (from requests>=2.19.0->tensorflow-datasets~=3.1->urduhack[tf]) (1.24.3)\n",
            "Requirement already satisfied: certifi>=2017.4.17 in /usr/local/lib/python3.7/dist-packages (from requests>=2.19.0->tensorflow-datasets~=3.1->urduhack[tf]) (2020.12.5)\n",
            "Requirement already satisfied: typeguard>=2.7 in /usr/local/lib/python3.7/dist-packages (from tensorflow-addons>=0.8.2->tf2crf->urduhack[tf]) (2.7.1)\n",
            "Requirement already satisfied: google-auth-oauthlib<0.5,>=0.4.1 in /usr/local/lib/python3.7/dist-packages (from tensorboard~=2.4->tensorflow~=2.2; extra == \"tf\"->urduhack[tf]) (0.4.3)\n",
            "Requirement already satisfied: markdown>=2.6.8 in /usr/local/lib/python3.7/dist-packages (from tensorboard~=2.4->tensorflow~=2.2; extra == \"tf\"->urduhack[tf]) (3.3.4)\n",
            "Requirement already satisfied: werkzeug>=0.11.15 in /usr/local/lib/python3.7/dist-packages (from tensorboard~=2.4->tensorflow~=2.2; extra == \"tf\"->urduhack[tf]) (1.0.1)\n",
            "Requirement already satisfied: tensorboard-plugin-wit>=1.6.0 in /usr/local/lib/python3.7/dist-packages (from tensorboard~=2.4->tensorflow~=2.2; extra == \"tf\"->urduhack[tf]) (1.8.0)\n",
            "Requirement already satisfied: google-auth<2,>=1.6.3 in /usr/local/lib/python3.7/dist-packages (from tensorboard~=2.4->tensorflow~=2.2; extra == \"tf\"->urduhack[tf]) (1.27.1)\n",
            "Requirement already satisfied: requests-oauthlib>=0.7.0 in /usr/local/lib/python3.7/dist-packages (from google-auth-oauthlib<0.5,>=0.4.1->tensorboard~=2.4->tensorflow~=2.2; extra == \"tf\"->urduhack[tf]) (1.3.0)\n",
            "Requirement already satisfied: importlib-metadata; python_version < \"3.8\" in /usr/local/lib/python3.7/dist-packages (from markdown>=2.6.8->tensorboard~=2.4->tensorflow~=2.2; extra == \"tf\"->urduhack[tf]) (3.7.2)\n",
            "Requirement already satisfied: rsa<5,>=3.1.4; python_version >= \"3.6\" in /usr/local/lib/python3.7/dist-packages (from google-auth<2,>=1.6.3->tensorboard~=2.4->tensorflow~=2.2; extra == \"tf\"->urduhack[tf]) (4.7.2)\n",
            "Requirement already satisfied: pyasn1-modules>=0.2.1 in /usr/local/lib/python3.7/dist-packages (from google-auth<2,>=1.6.3->tensorboard~=2.4->tensorflow~=2.2; extra == \"tf\"->urduhack[tf]) (0.2.8)\n",
            "Requirement already satisfied: cachetools<5.0,>=2.0.0 in /usr/local/lib/python3.7/dist-packages (from google-auth<2,>=1.6.3->tensorboard~=2.4->tensorflow~=2.2; extra == \"tf\"->urduhack[tf]) (4.2.1)\n",
            "Requirement already satisfied: oauthlib>=3.0.0 in /usr/local/lib/python3.7/dist-packages (from requests-oauthlib>=0.7.0->google-auth-oauthlib<0.5,>=0.4.1->tensorboard~=2.4->tensorflow~=2.2; extra == \"tf\"->urduhack[tf]) (3.1.0)\n",
            "Requirement already satisfied: zipp>=0.5 in /usr/local/lib/python3.7/dist-packages (from importlib-metadata; python_version < \"3.8\"->markdown>=2.6.8->tensorboard~=2.4->tensorflow~=2.2; extra == \"tf\"->urduhack[tf]) (3.4.1)\n",
            "Requirement already satisfied: pyasn1>=0.1.3 in /usr/local/lib/python3.7/dist-packages (from rsa<5,>=3.1.4; python_version >= \"3.6\"->google-auth<2,>=1.6.3->tensorboard~=2.4->tensorflow~=2.2; extra == \"tf\"->urduhack[tf]) (0.4.8)\n"
          ],
          "name": "stdout"
        }
      ]
    },
    {
      "cell_type": "markdown",
      "metadata": {
        "id": "XChiPrRsSwjz"
      },
      "source": [
        "##### Reading File"
      ]
    },
    {
      "cell_type": "code",
      "metadata": {
        "id": "lxjaBCgOWYKt",
        "colab": {
          "base_uri": "https://localhost:8080/"
        },
        "outputId": "82d5b9cb-5e91-40d7-f647-62b3736060de"
      },
      "source": [
        "import csv\n",
        "\n",
        "with open('sent-test.txt', 'rt', encoding=\"utf-8\") as f:\n",
        "    reader = csv.reader(f)\n",
        "    passage = list(reader)\n",
        "f.close()\n",
        "text = passage[0][0]\n",
        "print(text)"
      ],
      "execution_count": null,
      "outputs": [
        {
          "output_type": "stream",
          "text": [
            "عقل خان کے مطابق اس خوبصورت چراگاہ کو کنڈیل شئی بانال کہا جاتا ہے کنڈیل شئی بانال کے اس خوبصورت میدان کو اگر سویٹزرلینڈ کے کسی ہرے بھرے میدانی علاقے سے تشبیہہ دی جائے تو کچھ غلط نہیں ہوگا میدان میں داخل ہوتے ہی کچھ دیر آرام کرنے کی میری خواہش پر سب نے لبیک کہا ایسا لگا جیسے ان کی دل کی بات میرے لبوں سے ادا ہوئی ہو۔\n"
          ],
          "name": "stdout"
        }
      ]
    },
    {
      "cell_type": "markdown",
      "metadata": {
        "id": "TIBWNux3q6v8"
      },
      "source": [
        "##### Segmentation using UrduHack"
      ]
    },
    {
      "cell_type": "code",
      "metadata": {
        "id": "3AiTdXY6q6v8",
        "colab": {
          "base_uri": "https://localhost:8080/"
        },
        "outputId": "a27c55bb-42d8-498b-c6b1-0ca268114740"
      },
      "source": [
        "import urduhack\n",
        "urduhack.download()\n",
        "from urduhack.tokenization import sentence_tokenizer, word_tokenizer\n",
        "\n",
        "sentences = sentence_tokenizer(text)\n",
        "sentences"
      ],
      "execution_count": null,
      "outputs": [
        {
          "output_type": "execute_result",
          "data": {
            "text/plain": [
              "['عقل خان کے مطابق اس خوبصورت چراگاہ کو کنڈیل شئی بانال کہا جاتا ہے',\n",
              " 'کنڈیل شئی بانال کے اس خوبصورت میدان کو اگر سویٹزرلینڈ کے کسی ہرے بھرے میدانی علاقے سے تشبیہہ دی جائے تو کچھ غلط نہیں ہوگا میدان میں داخل ہوتے ہی کچھ دیر آرام کرنے کی میری خواہش پر سب نے لبیک کہا ایسا لگا جیسے ان کی دل کی بات میرے لبوں سے ادا ہوئی ہو۔']"
            ]
          },
          "metadata": {
            "tags": []
          },
          "execution_count": 307
        }
      ]
    },
    {
      "cell_type": "code",
      "metadata": {
        "id": "SuOGcsNQq6v8",
        "colab": {
          "base_uri": "https://localhost:8080/"
        },
        "outputId": "089254d5-bc28-4f30-c9cd-4a977d0ef97d"
      },
      "source": [
        "len(sentences) "
      ],
      "execution_count": null,
      "outputs": [
        {
          "output_type": "execute_result",
          "data": {
            "text/plain": [
              "2"
            ]
          },
          "metadata": {
            "tags": []
          },
          "execution_count": 308
        }
      ]
    },
    {
      "cell_type": "markdown",
      "metadata": {
        "id": "_gaElHuGS4Qb"
      },
      "source": [
        "#### Reading Segmented File"
      ]
    },
    {
      "cell_type": "code",
      "metadata": {
        "id": "gnPi90zhegAM"
      },
      "source": [
        "with open('sent-segmented.txt', 'rt', encoding=\"utf-8\") as f:\n",
        "    reader = csv.reader(f)\n",
        "    segmented = list(reader)\n",
        "f.close()"
      ],
      "execution_count": null,
      "outputs": []
    },
    {
      "cell_type": "code",
      "metadata": {
        "id": "tMU7rLM8q6v9",
        "colab": {
          "base_uri": "https://localhost:8080/"
        },
        "outputId": "904bf9c2-efbb-40e6-abb5-5267b010ee25"
      },
      "source": [
        "seg_text = segmented[0][0]\n",
        "sents = seg_text.split('۔')\n",
        "len(sents)"
      ],
      "execution_count": null,
      "outputs": [
        {
          "output_type": "execute_result",
          "data": {
            "text/plain": [
              "5"
            ]
          },
          "metadata": {
            "tags": []
          },
          "execution_count": 310
        }
      ]
    },
    {
      "cell_type": "code",
      "metadata": {
        "id": "qEPkFWRAq6v-"
      },
      "source": [
        "w_list = word_tokenizer(seg_text)"
      ],
      "execution_count": null,
      "outputs": []
    },
    {
      "cell_type": "code",
      "metadata": {
        "id": "AX-eEIuAq6v-",
        "colab": {
          "base_uri": "https://localhost:8080/",
          "height": 35
        },
        "outputId": "b8d5247e-6e57-4262-a238-d0c04634d7ec"
      },
      "source": [
        "w_list[0]"
      ],
      "execution_count": null,
      "outputs": [
        {
          "output_type": "execute_result",
          "data": {
            "application/vnd.google.colaboratory.intrinsic+json": {
              "type": "string"
            },
            "text/plain": [
              "'عقل'"
            ]
          },
          "metadata": {
            "tags": []
          },
          "execution_count": 312
        }
      ]
    },
    {
      "cell_type": "markdown",
      "metadata": {
        "id": "lEFNhLGoq6v-"
      },
      "source": [
        "##### Your Sentence Segmentation Code"
      ]
    },
    {
      "cell_type": "code",
      "metadata": {
        "colab": {
          "base_uri": "https://localhost:8080/"
        },
        "id": "JzDpfCTHeRlX",
        "outputId": "f4189e6e-8654-40bf-bba3-c04991642787"
      },
      "source": [
        "print(seg_text)\n",
        "print(text)\n",
        "#seg_text for text with full stops\n",
        "#text for text without full stops. w_list for list of tokenized text"
      ],
      "execution_count": null,
      "outputs": [
        {
          "output_type": "stream",
          "text": [
            "عقل خان کے مطابق اس خوبصورت چراگاہ کو کنڈیل شئی بانال کہا جاتا ہے۔ کنڈیل شئی بانال کے اس خوبصورت میدان کو اگر سویٹزرلینڈ کے کسی ہرے بھرے میدانی علاقے سے تشبیہہ دی جائے تو کچھ غلط نہیں ہوگا۔ میدان میں داخل ہوتے ہی کچھ دیر آرام کرنے کی میری خواہش پر سب نے لبیک کہا۔ ایسا لگا جیسے ان کی دل کی بات میرے لبوں سے ادا ہوئی ہو۔\n",
            "عقل خان کے مطابق اس خوبصورت چراگاہ کو کنڈیل شئی بانال کہا جاتا ہے کنڈیل شئی بانال کے اس خوبصورت میدان کو اگر سویٹزرلینڈ کے کسی ہرے بھرے میدانی علاقے سے تشبیہہ دی جائے تو کچھ غلط نہیں ہوگا میدان میں داخل ہوتے ہی کچھ دیر آرام کرنے کی میری خواہش پر سب نے لبیک کہا ایسا لگا جیسے ان کی دل کی بات میرے لبوں سے ادا ہوئی ہو۔\n"
          ],
          "name": "stdout"
        }
      ]
    },
    {
      "cell_type": "markdown",
      "metadata": {
        "id": "ipxfjK1AiJ0t"
      },
      "source": [
        "**Making Ngrams**"
      ]
    },
    {
      "cell_type": "code",
      "metadata": {
        "id": "wkmJjLvMq6v_"
      },
      "source": [
        "from nltk.util import ngrams\n",
        "from nltk import FreqDist\n",
        "import nltk"
      ],
      "execution_count": null,
      "outputs": []
    },
    {
      "cell_type": "code",
      "metadata": {
        "colab": {
          "base_uri": "https://localhost:8080/"
        },
        "id": "GdJcmCGsq6Ws",
        "outputId": "b002a186-3e04-4677-effd-cb6c45f78c8a"
      },
      "source": [
        "print(w_list)"
      ],
      "execution_count": null,
      "outputs": [
        {
          "output_type": "stream",
          "text": [
            "['عقل', 'خان', 'کے', 'مطابق', 'اس', 'خوبصورت', 'چراگاہ', 'کو', 'کنڈیل', 'شئیبانال', 'کہا', 'جاتا', 'ہے۔', 'کنڈیل', 'شئی', 'بانال', 'کے', 'اس', 'خوبصورت', 'میدان', 'کو', 'اگر', 'سویٹزرلینڈ', 'کے', 'کسی', 'ہرے', 'بھرے', 'میدانی', 'علاقے', 'سے', 'تشبیہہ', 'دی', 'جائے', 'تو', 'کچھ', 'غلط', 'نہیں', 'ہو', 'گا۔میدان', 'میں', 'داخل', 'ہوتے', 'ہی', 'کچھ', 'دیرارام', 'کرنے', 'کی', 'میری', 'خواہش', 'پر', 'سب', 'نے', 'لبیک', 'کہا۔', 'ایسا', 'لگا', 'جیسے', 'ان', 'کی', 'دل', 'کی', 'بات', 'میرے', 'لبوں', 'سے', 'ادا', 'ہوئی', 'ہو۔']\n"
          ],
          "name": "stdout"
        }
      ]
    },
    {
      "cell_type": "code",
      "metadata": {
        "colab": {
          "base_uri": "https://localhost:8080/"
        },
        "id": "1zbSeW-YyyB-",
        "outputId": "5cfdb07b-c9b5-43f6-f7a0-924f9e01fe8c"
      },
      "source": [
        "templist = seg_text.split(\" \")\n",
        "print(templist)\n",
        "word_list2 = []\n",
        "word_list2.append(\"<S>\")\n",
        "word_list2.append(\"<S>\")\n",
        "for i in range(0, len(templist)):\n",
        "  if (templist[i][-1])=='۔':\n",
        "    word_list2.append(templist[i][:-1])\n",
        "    word_list2.append('۔')\n",
        "  else:\n",
        "    word_list2.append(templist[i])\n",
        "\n",
        "word_list2.append(\"</S>\")\n",
        "print(word_list2)"
      ],
      "execution_count": null,
      "outputs": [
        {
          "output_type": "stream",
          "text": [
            "['عقل', 'خان', 'کے', 'مطابق', 'اس', 'خوبصورت', 'چراگاہ', 'کو', 'کنڈیل', 'شئی', 'بانال', 'کہا', 'جاتا', 'ہے۔', 'کنڈیل', 'شئی', 'بانال', 'کے', 'اس', 'خوبصورت', 'میدان', 'کو', 'اگر', 'سویٹزرلینڈ', 'کے', 'کسی', 'ہرے', 'بھرے', 'میدانی', 'علاقے', 'سے', 'تشبیہہ', 'دی', 'جائے', 'تو', 'کچھ', 'غلط', 'نہیں', 'ہوگا۔', 'میدان', 'میں', 'داخل', 'ہوتے', 'ہی', 'کچھ', 'دیر', 'آرام', 'کرنے', 'کی', 'میری', 'خواہش', 'پر', 'سب', 'نے', 'لبیک', 'کہا۔', 'ایسا', 'لگا', 'جیسے', 'ان', 'کی', 'دل', 'کی', 'بات', 'میرے', 'لبوں', 'سے', 'ادا', 'ہوئی', 'ہو۔']\n",
            "['<S>', '<S>', 'عقل', 'خان', 'کے', 'مطابق', 'اس', 'خوبصورت', 'چراگاہ', 'کو', 'کنڈیل', 'شئی', 'بانال', 'کہا', 'جاتا', 'ہے', '۔', 'کنڈیل', 'شئی', 'بانال', 'کے', 'اس', 'خوبصورت', 'میدان', 'کو', 'اگر', 'سویٹزرلینڈ', 'کے', 'کسی', 'ہرے', 'بھرے', 'میدانی', 'علاقے', 'سے', 'تشبیہہ', 'دی', 'جائے', 'تو', 'کچھ', 'غلط', 'نہیں', 'ہوگا', '۔', 'میدان', 'میں', 'داخل', 'ہوتے', 'ہی', 'کچھ', 'دیر', 'آرام', 'کرنے', 'کی', 'میری', 'خواہش', 'پر', 'سب', 'نے', 'لبیک', 'کہا', '۔', 'ایسا', 'لگا', 'جیسے', 'ان', 'کی', 'دل', 'کی', 'بات', 'میرے', 'لبوں', 'سے', 'ادا', 'ہوئی', 'ہو', '۔', '</S>']\n"
          ],
          "name": "stdout"
        }
      ]
    },
    {
      "cell_type": "markdown",
      "metadata": {
        "id": "Z86shvhi1NYA"
      },
      "source": [
        "Using Bigrams and Trigrams to find the Probability of a Full Stop Appearing After a Bigram"
      ]
    },
    {
      "cell_type": "markdown",
      "metadata": {
        "id": "tT0YVPpu3vVp"
      },
      "source": [
        "I'm finding the probability of a full stop appearing after words w1 and w2 in the given text. I am calculating the following:\n",
        "P(.|w1, w2) = f(w1, w2, .)/f(w1, w2)"
      ]
    },
    {
      "cell_type": "code",
      "metadata": {
        "id": "fXkGGwDI7cmL"
      },
      "source": [
        "def generate_bigram_freqdist(word_list2):\n",
        "  bigrams = list(ngrams(word_list2, n=2))\n",
        "  fdist_bigrams = FreqDist(bigrams)\n",
        "  return bigrams, fdist_bigrams"
      ],
      "execution_count": null,
      "outputs": []
    },
    {
      "cell_type": "code",
      "metadata": {
        "id": "MR8Hmp5t7la2"
      },
      "source": [
        "def generate_trigram_freqdist(word_list2):\n",
        "  trigrams = list(ngrams(word_list2, n=3))\n",
        "  fdist_trigrams = FreqDist(trigrams)\n",
        "  return trigrams, fdist_trigrams"
      ],
      "execution_count": null,
      "outputs": []
    },
    {
      "cell_type": "code",
      "metadata": {
        "id": "-qVjKJV81MLe"
      },
      "source": [
        "def probability_of_full_stop(word_list2, fdist_bigrams, fdist_trigrams):\n",
        "  bigram_freq = 0\n",
        "  for trigram, tfreq in fdist_trigrams.items():\n",
        "    if (trigram[-1]=='۔'):\n",
        "      #print(trigram[0], trigram[1], tfreq)\n",
        "      trigram_freq = tfreq\n",
        "\n",
        "      for bigram, bfreq in fdist_bigrams.items():\n",
        "        #print(bigram)\n",
        "        if (bigram[0]==trigram[0] and bigram[1]==trigram[1]):\n",
        "          bigram_freq = bfreq\n",
        "\n",
        "          if (bigram_freq!=0):\n",
        "            prob = trigram_freq/bigram_freq\n",
        "            print(\"Probability of (.|\", bigram, \") = \", prob)\n",
        "          else:\n",
        "            print(\"Bigram of given trigram not found\")\n",
        "          "
      ],
      "execution_count": null,
      "outputs": []
    },
    {
      "cell_type": "code",
      "metadata": {
        "colab": {
          "base_uri": "https://localhost:8080/"
        },
        "id": "pf61a1WG2MU2",
        "outputId": "1be130c6-720f-4b2b-da65-2a2c48e43299"
      },
      "source": [
        "bigrams, fdist_bigrams = generate_bigram_freqdist(word_list2)\n",
        "trigrams, fdist_trigrams = generate_trigram_freqdist(word_list2)\n",
        "probability_of_full_stop(word_list2, fdist_bigrams, fdist_trigrams)"
      ],
      "execution_count": null,
      "outputs": [
        {
          "output_type": "stream",
          "text": [
            "Probability of (.| ('جاتا', 'ہے') ) =  1.0\n",
            "Probability of (.| ('نہیں', 'ہوگا') ) =  1.0\n",
            "Probability of (.| ('لبیک', 'کہا') ) =  1.0\n",
            "Probability of (.| ('ہوئی', 'ہو') ) =  1.0\n"
          ],
          "name": "stdout"
        }
      ]
    },
    {
      "cell_type": "markdown",
      "metadata": {
        "id": "EadUG-0m7QZO"
      },
      "source": [
        "Now, finding the probability of a full stop coming after a specific bigram"
      ]
    },
    {
      "cell_type": "code",
      "metadata": {
        "id": "TCXvBV8v7Pu4"
      },
      "source": [
        "def probability_of_full_stop_after_bigram(given_bigram, fdist_bigrams, fdist_trigrams):\n",
        "  bigram_freq = 0\n",
        "  trigram_freq = 0\n",
        "  for bigram, bfreq in fdist_bigrams.items():\n",
        "    if (bigram[0]==given_bigram[0] and bigram[1]==given_bigram[1]):\n",
        "      bigram_freq = bfreq\n",
        "\n",
        "  for trigram, tfreq in fdist_trigrams.items():\n",
        "    if (trigram[-1]=='۔' and trigram[0]==given_bigram[0] and trigram[1]==given_bigram[1]):\n",
        "      trigram_freq = tfreq\n",
        "\n",
        "  if (bigram_freq!=0):\n",
        "    prob = trigram_freq/bigram_freq\n",
        "    #print(\"Probability of (.|\", given_bigram, \") = \", prob)\n",
        "    return prob\n",
        "  else:\n",
        "    #print(\"There exists no bigram in the given corpus.\")\n",
        "    return -1"
      ],
      "execution_count": null,
      "outputs": []
    },
    {
      "cell_type": "code",
      "metadata": {
        "id": "VuwMjG548wYn"
      },
      "source": [
        "#probability_of_full_stop_after_bigram('خان عقل', fdist_bigrams, fdist_trigrams)\n",
        "\n",
        "#'ہے جاتا'  \n",
        "#جاتا ہے\n",
        "#عقل خان\n",
        "\n",
        "#og_bigram = given_bigram\n",
        "#given_bigram = given_bigram.split(\" \")"
      ],
      "execution_count": null,
      "outputs": []
    },
    {
      "cell_type": "markdown",
      "metadata": {
        "id": "L0y1pQoln0LG"
      },
      "source": [
        "Using probability to determine where a full stop should be added"
      ]
    },
    {
      "cell_type": "code",
      "metadata": {
        "colab": {
          "base_uri": "https://localhost:8080/"
        },
        "id": "0_-NRqmGQuQI",
        "outputId": "22631382-56d9-4b76-a17c-ab80d7a16b3b"
      },
      "source": [
        "sentence = ''\n",
        "i = 0\n",
        "my_sentences = []\n",
        "for b in bigrams:\n",
        "  if (b[1]!='۔' and b[1]!=\"<S>\"):\n",
        "    sentence+=(b[1]+\" \")\n",
        "  \n",
        "  prob1 = probability_of_full_stop_after_bigram(b, fdist_bigrams, fdist_trigrams)\n",
        "  \n",
        "  if (prob1>0):\n",
        "    sentence=sentence[:-1]\n",
        "    sentence+=('۔')\n",
        "    print(sentence)\n",
        "    my_sentences.append(sentence)\n",
        "    sentence = ''\n",
        "print(my_sentences)"
      ],
      "execution_count": null,
      "outputs": [
        {
          "output_type": "stream",
          "text": [
            "عقل خان کے مطابق اس خوبصورت چراگاہ کو کنڈیل شئی بانال کہا جاتا ہے۔\n",
            "کنڈیل شئی بانال کے اس خوبصورت میدان کو اگر سویٹزرلینڈ کے کسی ہرے بھرے میدانی علاقے سے تشبیہہ دی جائے تو کچھ غلط نہیں ہوگا۔\n",
            "میدان میں داخل ہوتے ہی کچھ دیر آرام کرنے کی میری خواہش پر سب نے لبیک کہا۔\n",
            "ایسا لگا جیسے ان کی دل کی بات میرے لبوں سے ادا ہوئی ہو۔\n",
            "['عقل خان کے مطابق اس خوبصورت چراگاہ کو کنڈیل شئی بانال کہا جاتا ہے۔', 'کنڈیل شئی بانال کے اس خوبصورت میدان کو اگر سویٹزرلینڈ کے کسی ہرے بھرے میدانی علاقے سے تشبیہہ دی جائے تو کچھ غلط نہیں ہوگا۔', 'میدان میں داخل ہوتے ہی کچھ دیر آرام کرنے کی میری خواہش پر سب نے لبیک کہا۔', 'ایسا لگا جیسے ان کی دل کی بات میرے لبوں سے ادا ہوئی ہو۔']\n"
          ],
          "name": "stdout"
        }
      ]
    },
    {
      "cell_type": "markdown",
      "metadata": {
        "id": "YZ83jAJ3S-uR"
      },
      "source": [
        "#### Compute Accuracy and Print Results"
      ]
    },
    {
      "cell_type": "markdown",
      "metadata": {
        "id": "0EbsDPWBwlOK"
      },
      "source": [
        "Preparing the array of sentences to compare my array of sentences with to get accuracy"
      ]
    },
    {
      "cell_type": "code",
      "metadata": {
        "id": "OyFZPRIGlWNy",
        "colab": {
          "base_uri": "https://localhost:8080/"
        },
        "outputId": "313ba8d8-8170-479e-da98-13961518ad3b"
      },
      "source": [
        "print(seg_text)\n",
        "sentences_seg_text = seg_text.split('۔')\n",
        "print(sentences_seg_text)\n",
        "str_list = [x for x in sentences_seg_text if x != '']\n",
        "for i in range(0, len(str_list)):\n",
        "  if (str_list[i][0]==' '):\n",
        "    str_list[i]=str_list[i][1:]\n",
        "  str_list[i]+=('۔')\n",
        "\n",
        "print(str_list)\n",
        "print(my_sentences)"
      ],
      "execution_count": null,
      "outputs": [
        {
          "output_type": "stream",
          "text": [
            "عقل خان کے مطابق اس خوبصورت چراگاہ کو کنڈیل شئی بانال کہا جاتا ہے۔ کنڈیل شئی بانال کے اس خوبصورت میدان کو اگر سویٹزرلینڈ کے کسی ہرے بھرے میدانی علاقے سے تشبیہہ دی جائے تو کچھ غلط نہیں ہوگا۔ میدان میں داخل ہوتے ہی کچھ دیر آرام کرنے کی میری خواہش پر سب نے لبیک کہا۔ ایسا لگا جیسے ان کی دل کی بات میرے لبوں سے ادا ہوئی ہو۔\n",
            "['عقل خان کے مطابق اس خوبصورت چراگاہ کو کنڈیل شئی بانال کہا جاتا ہے', ' کنڈیل شئی بانال کے اس خوبصورت میدان کو اگر سویٹزرلینڈ کے کسی ہرے بھرے میدانی علاقے سے تشبیہہ دی جائے تو کچھ غلط نہیں ہوگا', ' میدان میں داخل ہوتے ہی کچھ دیر آرام کرنے کی میری خواہش پر سب نے لبیک کہا', ' ایسا لگا جیسے ان کی دل کی بات میرے لبوں سے ادا ہوئی ہو', '']\n",
            "['عقل خان کے مطابق اس خوبصورت چراگاہ کو کنڈیل شئی بانال کہا جاتا ہے۔', 'کنڈیل شئی بانال کے اس خوبصورت میدان کو اگر سویٹزرلینڈ کے کسی ہرے بھرے میدانی علاقے سے تشبیہہ دی جائے تو کچھ غلط نہیں ہوگا۔', 'میدان میں داخل ہوتے ہی کچھ دیر آرام کرنے کی میری خواہش پر سب نے لبیک کہا۔', 'ایسا لگا جیسے ان کی دل کی بات میرے لبوں سے ادا ہوئی ہو۔']\n",
            "['عقل خان کے مطابق اس خوبصورت چراگاہ کو کنڈیل شئی بانال کہا جاتا ہے۔', 'کنڈیل شئی بانال کے اس خوبصورت میدان کو اگر سویٹزرلینڈ کے کسی ہرے بھرے میدانی علاقے سے تشبیہہ دی جائے تو کچھ غلط نہیں ہوگا۔', 'میدان میں داخل ہوتے ہی کچھ دیر آرام کرنے کی میری خواہش پر سب نے لبیک کہا۔', 'ایسا لگا جیسے ان کی دل کی بات میرے لبوں سے ادا ہوئی ہو۔']\n"
          ],
          "name": "stdout"
        }
      ]
    },
    {
      "cell_type": "markdown",
      "metadata": {
        "id": "yl2ha8k3wvZQ"
      },
      "source": [
        "Comparing lengths of sentences to get accuracy\n"
      ]
    },
    {
      "cell_type": "code",
      "metadata": {
        "colab": {
          "base_uri": "https://localhost:8080/"
        },
        "id": "tnnCO9m6pyUg",
        "outputId": "cf15ee37-cd0a-419c-a4a7-24bd2cb59f58"
      },
      "source": [
        "total = len(str_list)\n",
        "\n",
        "count = 0\n",
        "for i in range(0, len(my_sentences)):\n",
        "  if (len(my_sentences[i])==len(str_list[i])):\n",
        "    count+=1\n",
        "\n",
        "accuracy = (count/total)*100\n",
        "print(\"Accuracy =\", round(accuracy, 2))"
      ],
      "execution_count": null,
      "outputs": [
        {
          "output_type": "stream",
          "text": [
            "Accuracy = 100.0\n"
          ],
          "name": "stdout"
        }
      ]
    }
  ]
}